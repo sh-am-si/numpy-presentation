{
 "cells": [
  {
   "cell_type": "markdown",
   "metadata": {},
   "source": [
    "# Python Numerical Features "
   ]
  },
  {
   "cell_type": "markdown",
   "metadata": {
    "heading_collapsed": true
   },
   "source": [
    "## Long integers"
   ]
  },
  {
   "cell_type": "markdown",
   "metadata": {
    "hidden": true
   },
   "source": [
    "Since Python3, the type int is unbounded -- the value is only limited by the size of your CPU."
   ]
  },
  {
   "cell_type": "code",
   "execution_count": null,
   "metadata": {
    "hidden": true
   },
   "outputs": [],
   "source": [
    "2**1234"
   ]
  },
  {
   "cell_type": "markdown",
   "metadata": {
    "heading_collapsed": true
   },
   "source": [
    "## Complex Number"
   ]
  },
  {
   "cell_type": "markdown",
   "metadata": {
    "heading_collapsed": true,
    "hidden": true
   },
   "source": [
    "### Complex numbers in different languages\n",
    "\n",
    "  <table style=\"width:60%\">\n",
    "    <col style=\"width:20%\">\n",
    "\t<col style=\"width:20%\">\n",
    "\t<col style=\"width:20%\">\n",
    "     <tr>\n",
    "        <th><b>Build-in type</b></th>\n",
    "        <th><b>Standard library</b></th>\n",
    "        <th><b>No standard library</b></th>\n",
    "     </tr>\n",
    "     <tr>\n",
    "         <td>Fortran</td>\n",
    "         <td>C</td>\n",
    "         <td>Java</td>\n",
    "     </tr>\n",
    "     <tr>\n",
    "         <td>Python</td>\n",
    "         <td>C++</td>\n",
    "         <td> </td>\n",
    "     </tr>\n",
    "     <tr>\n",
    "         <td> Go </td>\n",
    "         <td> Perl </td>\n",
    "         <td> </td>\n",
    "     </tr>\n",
    "     <tr>\n",
    "         <td> Common Lisp </td>\n",
    "         <td> Ruby </td>\n",
    "         <td> </td>\n",
    "     </tr>\n",
    "     <tr>\n",
    "         <td> </td>\n",
    "         <td> OCaml </td>\n",
    "         <td> </td>\n",
    "     </tr>\n",
    "      <tr>\n",
    "         <td> </td>\n",
    "         <td> Haskell </td>\n",
    "         <td> </td>\n",
    "     </tr>\n",
    "  </table>\n",
    "  \n",
    "<a href=\"https://en.wikipedia.org/wiki/Complex_data_type\">https://en.wikipedia.org/wiki/Complex_data_type</a>"
   ]
  },
  {
   "cell_type": "code",
   "execution_count": null,
   "metadata": {
    "hidden": true
   },
   "outputs": [],
   "source": [
    "import cmath\n",
    "[f for f in dir(cmath) if f[0] != '_']"
   ]
  },
  {
   "cell_type": "markdown",
   "metadata": {
    "heading_collapsed": true
   },
   "source": [
    "## Useful build-in Python finctions"
   ]
  },
  {
   "cell_type": "markdown",
   "metadata": {
    "hidden": true
   },
   "source": [
    "Python has very handy build-in functions **_min()_**, **_max()_**, **_sum()_**, and **_round()_**"
   ]
  },
  {
   "cell_type": "code",
   "execution_count": null,
   "metadata": {
    "hidden": true
   },
   "outputs": [],
   "source": [
    "int_list = [1,3,-2,0,7]\n",
    "float_list = [1., 3., -2., 0., 7.]\n",
    "complex_list = [1j, 2+3j, 5-4j, 0, 7]\n",
    "str_list = ['a', 'b', 'y', 'z']"
   ]
  },
  {
   "cell_type": "code",
   "execution_count": null,
   "metadata": {
    "hidden": true
   },
   "outputs": [],
   "source": [
    "max(int_list), min(int_list)"
   ]
  },
  {
   "cell_type": "code",
   "execution_count": null,
   "metadata": {
    "hidden": true
   },
   "outputs": [],
   "source": [
    "max(float_list), min(float_list)"
   ]
  },
  {
   "cell_type": "code",
   "execution_count": null,
   "metadata": {
    "hidden": true
   },
   "outputs": [],
   "source": [
    "max(str_list), min(str_list)"
   ]
  },
  {
   "cell_type": "code",
   "execution_count": null,
   "metadata": {
    "hidden": true
   },
   "outputs": [],
   "source": [
    "max(complex_list), min(complex_list)"
   ]
  },
  {
   "cell_type": "code",
   "execution_count": null,
   "metadata": {
    "hidden": true
   },
   "outputs": [],
   "source": [
    "sum(int_list), sum(float_list), sum(complex_list)"
   ]
  },
  {
   "cell_type": "code",
   "execution_count": null,
   "metadata": {
    "hidden": true
   },
   "outputs": [],
   "source": [
    "sum(str_list)"
   ]
  },
  {
   "cell_type": "code",
   "execution_count": null,
   "metadata": {
    "hidden": true
   },
   "outputs": [],
   "source": [
    "import functools\n",
    "functools.reduce(lambda x,y:x+y, str_list)"
   ]
  },
  {
   "cell_type": "markdown",
   "metadata": {
    "heading_collapsed": true
   },
   "source": [
    "## Logic operations and sets"
   ]
  },
  {
   "cell_type": "markdown",
   "metadata": {
    "hidden": true
   },
   "source": [
    "Python supports all logical operation over sets like junction (AND) and intersection (OR)"
   ]
  },
  {
   "cell_type": "code",
   "execution_count": null,
   "metadata": {
    "hidden": true
   },
   "outputs": [],
   "source": [
    "{1, 2, 3} | {2, 3, 4} # and"
   ]
  },
  {
   "cell_type": "code",
   "execution_count": null,
   "metadata": {
    "hidden": true
   },
   "outputs": [],
   "source": [
    "{1, 2, 3} & {2, 3, 4} # or"
   ]
  },
  {
   "cell_type": "markdown",
   "metadata": {},
   "source": [
    "## Time performance issue"
   ]
  },
  {
   "cell_type": "markdown",
   "metadata": {},
   "source": [
    "As Python is a dynamically-typed language every operation comes with a type-checking overhead."
   ]
  },
  {
   "cell_type": "code",
   "execution_count": 23,
   "metadata": {},
   "outputs": [
    {
     "name": "stdout",
     "output_type": "stream",
     "text": [
      "Python function over list\n",
      "CPU times: user 101 ms, sys: 0 ns, total: 101 ms\n",
      "Wall time: 101 ms\n",
      "\n",
      "Python function over ndarray\n",
      "CPU times: user 157 ms, sys: 0 ns, total: 157 ms\n",
      "Wall time: 157 ms\n",
      "\n",
      "NumPy function (ufunc) over ndarray\n",
      "CPU times: user 2.7 ms, sys: 0 ns, total: 2.7 ms\n",
      "Wall time: 1.55 ms\n"
     ]
    },
    {
     "data": {
      "text/plain": [
       "499975.67331289186"
      ]
     },
     "execution_count": 23,
     "metadata": {},
     "output_type": "execute_result"
    }
   ],
   "source": [
    "import numpy as np\n",
    "num = 10 ** 6\n",
    "\n",
    "np_array = np.random.random(num)\n",
    "py_array = list(np_array)\n",
    "\n",
    "print('Python function over list')\n",
    "%time sum(py_array)\n",
    "\n",
    "print('\\nPython function over ndarray')\n",
    "%time sum(np_array)\n",
    "\n",
    "print('\\nNumPy function (ufunc) over ndarray')\n",
    "%time np.sum(np_array)\n"
   ]
  },
  {
   "cell_type": "code",
   "execution_count": null,
   "metadata": {
    "scrolled": true
   },
   "outputs": [],
   "source": [
    "def inner_product(a,b):\n",
    "    return sum([_a*_b for _a,_b in zip(a,b)])\n",
    "\n",
    "num = 10 ** 6\n",
    "a_np = np.random.random(num)\n",
    "b_np = np.random.random(num)\n",
    "\n",
    "a_py = list(a_np)\n",
    "b_py = list(b_np)\n",
    "\n",
    "print('Python')\n",
    "%time inner_product(a_np, b_np)\n",
    "\n",
    "print('\\nNumPy')\n",
    "%time a_np @ b_np"
   ]
  },
  {
   "cell_type": "markdown",
   "metadata": {},
   "source": [
    "# NumPy specific objects"
   ]
  },
  {
   "cell_type": "markdown",
   "metadata": {},
   "source": [
    "NumPy has an object similar to the Python float('inf') object"
   ]
  },
  {
   "cell_type": "code",
   "execution_count": 27,
   "metadata": {},
   "outputs": [
    {
     "data": {
      "text/plain": [
       "(inf, -inf, 0.0, inf, 0.0)"
      ]
     },
     "execution_count": 27,
     "metadata": {},
     "output_type": "execute_result"
    }
   ],
   "source": [
    "import numpy as np\n",
    "\n",
    "np.inf, -np.inf, 1/np.inf, np.exp(np.inf), np.exp(-np.inf)"
   ]
  },
  {
   "cell_type": "markdown",
   "metadata": {},
   "source": [
    "NumPy also has the 'Not a Number' object "
   ]
  },
  {
   "cell_type": "code",
   "execution_count": 28,
   "metadata": {},
   "outputs": [
    {
     "data": {
      "text/plain": [
       "nan"
      ]
     },
     "execution_count": 28,
     "metadata": {},
     "output_type": "execute_result"
    }
   ],
   "source": [
    "import warnings\n",
    "warnings.simplefilter('ignore')\n",
    "\n",
    "np.sin(np.inf)"
   ]
  },
  {
   "cell_type": "markdown",
   "metadata": {},
   "source": [
    "# NumPy ndarray"
   ]
  },
  {
   "cell_type": "markdown",
   "metadata": {},
   "source": [
    "## Declaration"
   ]
  },
  {
   "cell_type": "markdown",
   "metadata": {},
   "source": [
    "Declaration of an empty ndarray"
   ]
  },
  {
   "cell_type": "code",
   "execution_count": 29,
   "metadata": {},
   "outputs": [],
   "source": [
    "import numpy as np\n",
    "array = np.ndarray(shape=(2,3,3),\n",
    "                  dtype=np.float)"
   ]
  },
  {
   "cell_type": "code",
   "execution_count": 30,
   "metadata": {},
   "outputs": [
    {
     "data": {
      "text/plain": [
       "array([[[ 1.02867629e-316,  3.19300009e+018,  6.91775624e-310],\n",
       "        [ 5.39249333e-317, -5.09052377e-169,  6.91775624e-310],\n",
       "        [ 5.39252495e-317, -3.14588975e-202,  6.91775624e-310]],\n",
       "\n",
       "       [[ 5.39258819e-317, -1.39750648e-120,  6.91775624e-310],\n",
       "        [ 5.39271467e-317, -6.69052643e+093,  6.91775624e-310],\n",
       "        [ 5.39296763e-317,  9.05180301e-305,  6.91775624e-310]]])"
      ]
     },
     "execution_count": 30,
     "metadata": {},
     "output_type": "execute_result"
    }
   ],
   "source": [
    "array"
   ]
  },
  {
   "cell_type": "code",
   "execution_count": null,
   "metadata": {},
   "outputs": [],
   "source": [
    "# array shape\n",
    "array.shape"
   ]
  },
  {
   "cell_type": "code",
   "execution_count": null,
   "metadata": {},
   "outputs": [],
   "source": [
    "# dimension number\n",
    "array.ndim"
   ]
  },
  {
   "cell_type": "code",
   "execution_count": null,
   "metadata": {},
   "outputs": [],
   "source": [
    "array.flags"
   ]
  },
  {
   "cell_type": "markdown",
   "metadata": {},
   "source": [
    "As we see above the outcomes of above constructor are unpredictable. Fortunately, there are many cozy constructors those produce ready for use data."
   ]
  },
  {
   "cell_type": "code",
   "execution_count": null,
   "metadata": {},
   "outputs": [],
   "source": [
    "np.zeros(shape=(2,3), dtype=np.bool)"
   ]
  },
  {
   "cell_type": "code",
   "execution_count": null,
   "metadata": {},
   "outputs": [],
   "source": [
    "np.zeros_like(array, dtype=np.int8)"
   ]
  },
  {
   "cell_type": "code",
   "execution_count": null,
   "metadata": {},
   "outputs": [],
   "source": [
    "12 * np.ones((3,4), dtype=float)"
   ]
  },
  {
   "cell_type": "code",
   "execution_count": null,
   "metadata": {},
   "outputs": [],
   "source": [
    "np.full((3,4),12, dtype=np.int)"
   ]
  },
  {
   "cell_type": "code",
   "execution_count": null,
   "metadata": {},
   "outputs": [],
   "source": [
    "np.eye(4,3, dtype=np.int)"
   ]
  },
  {
   "cell_type": "markdown",
   "metadata": {},
   "source": [
    "ndarray declaration using a nested list"
   ]
  },
  {
   "cell_type": "code",
   "execution_count": 31,
   "metadata": {},
   "outputs": [
    {
     "data": {
      "text/plain": [
       "array([[0, 1, 2],\n",
       "       [1, 2, 3],\n",
       "       [2, 3, 4],\n",
       "       [3, 4, 5]])"
      ]
     },
     "execution_count": 31,
     "metadata": {},
     "output_type": "execute_result"
    }
   ],
   "source": [
    "np.array([[j+i for j in range(3)] for i in range(4)], np.int)"
   ]
  },
  {
   "cell_type": "markdown",
   "metadata": {},
   "source": [
    "NumPy ndarray may contain any Python object "
   ]
  },
  {
   "cell_type": "code",
   "execution_count": null,
   "metadata": {},
   "outputs": [],
   "source": [
    "aol = np.empty(6, dtype=np.object)\n",
    "for i in range(6):\n",
    "    if i < 3:\n",
    "        aol[i] = []\n",
    "    else:\n",
    "        aol[i] = {}\n",
    "        \n",
    "aol[0].append('Hello world')\n",
    "aol[0].append('another value')\n",
    "aol[5][1] = 'dict item'\n",
    "aol[5][2] = 'and one more'\n",
    "aol.shape = (2,3)\n",
    "print(aol)"
   ]
  },
  {
   "cell_type": "markdown",
   "metadata": {},
   "source": [
    "\n",
    "\n"
   ]
  },
  {
   "cell_type": "markdown",
   "metadata": {},
   "source": [
    "## NumPy types"
   ]
  },
  {
   "cell_type": "code",
   "execution_count": null,
   "metadata": {},
   "outputs": [],
   "source": [
    "np.iinfo(np.uint8)\n",
    "# np.iinfo(np.int_)\n"
   ]
  },
  {
   "cell_type": "code",
   "execution_count": null,
   "metadata": {},
   "outputs": [],
   "source": [
    "a = np.int64(9223372036854775807)\n",
    "print(a+1)\n"
   ]
  },
  {
   "cell_type": "code",
   "execution_count": null,
   "metadata": {},
   "outputs": [],
   "source": [
    "np.finfo(1.)"
   ]
  },
  {
   "cell_type": "code",
   "execution_count": 8,
   "metadata": {},
   "outputs": [
    {
     "name": "stdout",
     "output_type": "stream",
     "text": [
      "[( 0, 'Ango Kaczmarek', '4401 3602 2725 2942', '04/19', 'M', 2)\n",
      " ( 1, 'Iskra Musiał', '4622 7431 4294 2973', '11/21', 'F', 4)\n",
      " ( 2, 'Nila Bies', '4381 9261 4641 2645', '05/19', 'F', 0)\n",
      " ( 3, 'Bożesława Jałoszyński', '4199 1982 5757 8869', '08/18', 'F', 3)\n",
      " ( 4, 'Amandus Raszewski', '4120 6456 7486 8624', '03/17', 'M', 5)\n",
      " ( 5, 'Liubow Jabłoński', '4117 6417 8315 1577', '10/16', 'M', 2)\n",
      " ( 6, 'Dimitrij Czech', '4759 5783 8464 3011', '09/17', 'M', 2)\n",
      " ( 7, 'Kałahurska Semik', '4940 7635 5005 7614', '11/20', 'F', 0)\n",
      " ( 8, 'Lilianda Podsiadło', '4672 1764 3946 5037', '03/18', 'F', 5)\n",
      " ( 9, 'Vierginia Kotowski', '4901 2783 6127 5815', '05/18', 'F', 1)\n",
      " (10, 'Teonizy Górski', '4846 1039 6838 2202', '06/22', 'M', 3)\n",
      " (11, 'Isabella Szymański', '4654 4781 7822 9364', '08/22', 'F', 0)]\n"
     ]
    }
   ],
   "source": [
    "from mimesis import Person\n",
    "from mimesis.enums import Gender, CardType\n",
    "from mimesis.providers.payment import Payment\n",
    "\n",
    "num = 12\n",
    "\n",
    "dtype = np.dtype([\n",
    "            ('id',  np.uint8),\n",
    "            ('full_name', np.unicode_, 32),\n",
    "            ('credit_card_number', np.unicode_, 32),\n",
    "            ('credit_card_expiration_date', np.unicode_, 8),\n",
    "            ('gender', np.unicode_, 1),\n",
    "            ('child_count', np.uint8)\n",
    "        ])\n",
    "\n",
    "person = Person('pl')\n",
    "payment = Payment()\n",
    "\n",
    "gender = np.random.randint(2, size=num)\n",
    "array = np.empty(shape=num,\n",
    "                 dtype=dtype)\n",
    "\n",
    "for idx in range(num):\n",
    "\n",
    "    array['id'][idx] = idx\n",
    "    array['full_name'][idx] = person.full_name(gender=Gender.MALE if gender[idx] else Gender.FEMALE)\n",
    "    array['credit_card_number'][idx] = payment.credit_card_number(card_type=CardType.VISA)\n",
    "    array['credit_card_expiration_date'][idx] = payment.credit_card_expiration_date(maximum=22)\n",
    "    array['gender'][idx] = 'M' if gender[idx] else 'F'\n",
    "    array['child_count'][idx] = person.child_count()\n",
    "    \n",
    "print(array)\n",
    "\n"
   ]
  },
  {
   "cell_type": "code",
   "execution_count": 9,
   "metadata": {},
   "outputs": [
    {
     "data": {
      "text/plain": [
       "array(['4401 3602 2725 2942', '4622 7431 4294 2973',\n",
       "       '4381 9261 4641 2645', '4199 1982 5757 8869',\n",
       "       '4120 6456 7486 8624', '4117 6417 8315 1577',\n",
       "       '4759 5783 8464 3011', '4940 7635 5005 7614',\n",
       "       '4672 1764 3946 5037', '4901 2783 6127 5815',\n",
       "       '4846 1039 6838 2202', '4654 4781 7822 9364'], dtype='<U32')"
      ]
     },
     "execution_count": 9,
     "metadata": {},
     "output_type": "execute_result"
    }
   ],
   "source": [
    "array['credit_card_number']"
   ]
  },
  {
   "cell_type": "markdown",
   "metadata": {},
   "source": [
    "## ufunc"
   ]
  },
  {
   "cell_type": "markdown",
   "metadata": {},
   "source": [
    "\n",
    "<span style=\"color:red\">ufunc</span> is a short form of Universal Functions, which are a special type of functions\n",
    "defined within the NumPy library those operate element-wise on arrays.\n",
    "What are the ufuncs? \n",
    "\n",
    "* Arithmetic Operations: + − ∗ @ / // %\n",
    "* Bitwise Operations: & | v ∧ ∗∗ >> <<\n",
    "* Comparison Operations: < > <= => == !=\n",
    "* Mathematical Functions: <span style=\"color:red, \">np.sin, np.cos np.sqrt np.exp, np.log, np.log10,</span> etc.\n",
    "* and many, many more\n",
    "\n",
    "Most arithmetic operation are valid for a ndarray and scalar.\n",
    "Generally, all basic fuctions are implemented as ufuncs in NumPy. Still we may create our own vectorized functions."
   ]
  },
  {
   "cell_type": "code",
   "execution_count": 10,
   "metadata": {},
   "outputs": [
    {
     "name": "stdout",
     "output_type": "stream",
     "text": [
      "CPU times: user 1.02 ms, sys: 277 µs, total: 1.3 ms\n",
      "Wall time: 2.46 ms\n",
      "CPU times: user 1.42 ms, sys: 0 ns, total: 1.42 ms\n",
      "Wall time: 1.34 ms\n",
      "CPU times: user 877 µs, sys: 0 ns, total: 877 µs\n",
      "Wall time: 857 µs\n"
     ]
    }
   ],
   "source": [
    "num = 2000\n",
    "#Suppose we have 1000 points\n",
    "\n",
    "points = np.random.randint(10, size=(num,))\n",
    "\n",
    "%time points[points>5] -= 10\n",
    "\n",
    "f1 = lambda x : x - 10 if x> 5 else x\n",
    "%time dto1 = np.array([f1(x) for x in points])\n",
    "\n",
    "f2 = np.vectorize(f1)\n",
    "\n",
    "%time dto2 = f2(points)\n"
   ]
  },
  {
   "cell_type": "markdown",
   "metadata": {},
   "source": [
    "## Broadcasting"
   ]
  },
  {
   "cell_type": "markdown",
   "metadata": {},
   "source": [
    "<span style=\"color:red\">Broadcasting</span> is a set of rule by which ufuncs operate on arrays of different size and/or\n",
    "dimensions.\n",
    "Broadcasting in NumPy follows a strict set of rules to determine the interaction be-\n",
    "tween the two arrays:\n",
    "* Rule 1: If the two arrays differ in their number of dimensions, the shape of the one with fewer dimensions is padded with ones on its leading (left) side.\n",
    "* Rule 2: If the shape of the two arrays does not match in any dimension, the array with shape equal to 1 in that dimension is stretched to match the other shape.\n",
    "* Rule 3: If in any dimension the sizes disagree and neither is equal to 1, an error is raised"
   ]
  },
  {
   "cell_type": "code",
   "execution_count": 16,
   "metadata": {},
   "outputs": [
    {
     "name": "stdout",
     "output_type": "stream",
     "text": [
      "array a of shape (3, 4)\n",
      "[[ 0  1  2  3]\n",
      " [ 4  5  6  7]\n",
      " [ 8  9 10 11]]\n",
      "\n",
      "array b of shape (4,)\n",
      "[0 1 2 3]\n",
      "\n",
      "is broadcasted to the array _b of shape (3, 4)\n",
      "[[0 1 2 3]\n",
      " [0 1 2 3]\n",
      " [0 1 2 3]]\n",
      "\n",
      "a + b = a + _b\n",
      "[[ 0  2  4  6]\n",
      " [ 4  6  8 10]\n",
      " [ 8 10 12 14]]\n"
     ]
    }
   ],
   "source": [
    "# Rule 1\n",
    "import numpy as np\n",
    "a = np.arange(12).reshape(3,4)\n",
    "b = np.arange(4)\n",
    "_b = np.broadcast_to(b, a.shape)\n",
    "print('array a of shape', a.shape)\n",
    "print(a)\n",
    "print('\\narray b of shape', b.shape)\n",
    "print(b)\n",
    "print('\\nis broadcasted to the array _b of shape', _b.shape)\n",
    "print(_b)\n",
    "print('\\na + b = a + _b')\n",
    "print(a + b)"
   ]
  },
  {
   "cell_type": "code",
   "execution_count": 13,
   "metadata": {},
   "outputs": [
    {
     "name": "stdout",
     "output_type": "stream",
     "text": [
      "array a of shape (3, 4)\n",
      "[[ 0  1  2  3]\n",
      " [ 4  5  6  7]\n",
      " [ 8  9 10 11]]\n",
      "\n",
      "array b of shape (3, 1)\n",
      "[[0]\n",
      " [1]\n",
      " [2]]\n",
      "\n",
      "is broadcasted to the array _b of shape (3, 4)\n",
      "[[0 0 0 0]\n",
      " [1 1 1 1]\n",
      " [2 2 2 2]]\n",
      "\n",
      "a + b = a + _b\n",
      "[[ 0  1  2  3]\n",
      " [ 5  6  7  8]\n",
      " [10 11 12 13]]\n"
     ]
    }
   ],
   "source": [
    "# Rule 2\n",
    "import numpy as np\n",
    "a = np.arange(12).reshape(3, 4)\n",
    "# a = np.arange(12).reshape(3,-1)\n",
    "# a = np.arange(12).reshape(-1,4)\n",
    "b = np.arange(3).reshape(3, 1)\n",
    "# b = np.arange(3).reshape(3,-1)\n",
    "# b = np.arange(3)[np.newaxis].T\n",
    "# b = np.arange(3)[np.newaxis].transpose()\n",
    "# b = np.arange(3)[None].transpose()\n",
    "# b = np.array([[i] for i in range(3)])\n",
    "\n",
    "print('array a of shape', a.shape)\n",
    "print(a)\n",
    "print('\\narray b of shape', b.shape)\n",
    "print(b)\n",
    "\n",
    "_b = np.broadcast_to(b, a.shape)\n",
    "print('\\nis broadcasted to the array _b of shape', _b.shape)\n",
    "print(_b)\n",
    "print('\\na + b = a + _b')\n",
    "print(a + _b)"
   ]
  },
  {
   "cell_type": "code",
   "execution_count": 14,
   "metadata": {},
   "outputs": [
    {
     "name": "stdout",
     "output_type": "stream",
     "text": [
      "vector b of shape (3, 2, 1, 1)\n",
      "[[[[0]]\n",
      "\n",
      "  [[1]]]\n",
      "\n",
      "\n",
      " [[[2]]\n",
      "\n",
      "  [[3]]]\n",
      "\n",
      "\n",
      " [[[4]]\n",
      "\n",
      "  [[5]]]] \n",
      "\n",
      "[[[[0 0 0 0 0]\n",
      "   [0 0 0 0 0]\n",
      "   [0 0 0 0 0]]\n",
      "\n",
      "  [[1 1 1 1 1]\n",
      "   [1 1 1 1 1]\n",
      "   [1 1 1 1 1]]]\n",
      "\n",
      "\n",
      " [[[2 2 2 2 2]\n",
      "   [2 2 2 2 2]\n",
      "   [2 2 2 2 2]]\n",
      "\n",
      "  [[3 3 3 3 3]\n",
      "   [3 3 3 3 3]\n",
      "   [3 3 3 3 3]]]\n",
      "\n",
      "\n",
      " [[[4 4 4 4 4]\n",
      "   [4 4 4 4 4]\n",
      "   [4 4 4 4 4]]\n",
      "\n",
      "  [[5 5 5 5 5]\n",
      "   [5 5 5 5 5]\n",
      "   [5 5 5 5 5]]]]\n"
     ]
    }
   ],
   "source": [
    "# broadcasting to more dimensions\n",
    "b = np.arange(6).reshape(3,2)\n",
    "b = b[...,np.newaxis,np.newaxis]\n",
    "print('vector b of shape', b.shape)\n",
    "print(b, '\\n')\n",
    "br = np.broadcast_to(b, (3,2,3,5))\n",
    "print(br)"
   ]
  },
  {
   "cell_type": "markdown",
   "metadata": {
    "heading_collapsed": true
   },
   "source": [
    "## Indexing"
   ]
  },
  {
   "cell_type": "markdown",
   "metadata": {
    "hidden": true
   },
   "source": [
    "### Slicing"
   ]
  },
  {
   "cell_type": "code",
   "execution_count": null,
   "metadata": {
    "hidden": true
   },
   "outputs": [],
   "source": [
    "a = np.arange(20)\n",
    "a"
   ]
  },
  {
   "cell_type": "code",
   "execution_count": null,
   "metadata": {
    "hidden": true
   },
   "outputs": [],
   "source": [
    "a[-2:3:-3]"
   ]
  },
  {
   "cell_type": "markdown",
   "metadata": {
    "hidden": true
   },
   "source": [
    "### Integer array indexing"
   ]
  },
  {
   "cell_type": "code",
   "execution_count": null,
   "metadata": {
    "hidden": true
   },
   "outputs": [],
   "source": [
    "a = np.arange(20)\n",
    "a"
   ]
  },
  {
   "cell_type": "code",
   "execution_count": null,
   "metadata": {
    "hidden": true
   },
   "outputs": [],
   "source": [
    "a[[i for i in range(18, 3, -3)]]"
   ]
  },
  {
   "cell_type": "code",
   "execution_count": null,
   "metadata": {
    "hidden": true
   },
   "outputs": [],
   "source": [
    "a[np.arange(18,3,-3)]"
   ]
  },
  {
   "cell_type": "code",
   "execution_count": null,
   "metadata": {
    "hidden": true
   },
   "outputs": [],
   "source": [
    "a.shape=(4,5)\n",
    "a"
   ]
  },
  {
   "cell_type": "code",
   "execution_count": null,
   "metadata": {
    "hidden": true
   },
   "outputs": [],
   "source": [
    "a[[1,2,3],:]"
   ]
  },
  {
   "cell_type": "code",
   "execution_count": null,
   "metadata": {
    "hidden": true
   },
   "outputs": [],
   "source": [
    "a[:,[0,2,4]]"
   ]
  },
  {
   "cell_type": "code",
   "execution_count": null,
   "metadata": {
    "hidden": true
   },
   "outputs": [],
   "source": [
    "a[[1,2,3],[0,2,1]]"
   ]
  },
  {
   "cell_type": "code",
   "execution_count": null,
   "metadata": {
    "hidden": true
   },
   "outputs": [],
   "source": [
    "a[[1,2,3],:][:,[0,2,4]]"
   ]
  },
  {
   "cell_type": "code",
   "execution_count": null,
   "metadata": {
    "hidden": true
   },
   "outputs": [],
   "source": [
    "a[np.ix_([1,2,3], [0,2,4])]"
   ]
  },
  {
   "cell_type": "markdown",
   "metadata": {
    "hidden": true
   },
   "source": [
    "### Boolean array indexing"
   ]
  },
  {
   "cell_type": "code",
   "execution_count": null,
   "metadata": {
    "hidden": true
   },
   "outputs": [],
   "source": [
    "a = np.arange(5)\n",
    "a"
   ]
  },
  {
   "cell_type": "code",
   "execution_count": null,
   "metadata": {
    "hidden": true
   },
   "outputs": [],
   "source": [
    "a[[True, False, True, False, True]]"
   ]
  },
  {
   "cell_type": "code",
   "execution_count": null,
   "metadata": {
    "hidden": true
   },
   "outputs": [],
   "source": [
    "a[a%2==0]"
   ]
  },
  {
   "cell_type": "code",
   "execution_count": null,
   "metadata": {
    "hidden": true
   },
   "outputs": [],
   "source": [
    "_a = a % 2\n",
    "_a"
   ]
  },
  {
   "cell_type": "code",
   "execution_count": null,
   "metadata": {
    "hidden": true
   },
   "outputs": [],
   "source": [
    "_a == 0"
   ]
  },
  {
   "cell_type": "markdown",
   "metadata": {
    "hidden": true
   },
   "source": [
    "### Assign a ndarray slice"
   ]
  },
  {
   "cell_type": "code",
   "execution_count": null,
   "metadata": {
    "hidden": true
   },
   "outputs": [],
   "source": [
    "a = np.arange(20).reshape(4,5)\n",
    "a[np.ix_([1,2,3], [0,2,4])] = -1\n",
    "a"
   ]
  },
  {
   "cell_type": "code",
   "execution_count": null,
   "metadata": {
    "hidden": true
   },
   "outputs": [],
   "source": [
    "import matplotlib.image\n",
    "import matplotlib.pylab as plt\n",
    "monalisa = matplotlib.image.imread('pics/monalisa.png')\n",
    "ml = monalisa.copy()\n",
    "plt.imshow(monalisa)\n",
    "plt.show()"
   ]
  },
  {
   "cell_type": "code",
   "execution_count": null,
   "metadata": {
    "hidden": true
   },
   "outputs": [],
   "source": [
    "monalisa.shape"
   ]
  },
  {
   "cell_type": "code",
   "execution_count": null,
   "metadata": {
    "hidden": true
   },
   "outputs": [],
   "source": [
    "r,c,f = monalisa.shape\n",
    "ml[:r//2, :c//2, 1] = 1\n",
    "ml[r//2: ,c//2: ,0] = 0\n",
    "plt.imshow(ml[:, :, :])\n",
    "plt.show()"
   ]
  },
  {
   "cell_type": "code",
   "execution_count": null,
   "metadata": {
    "hidden": true
   },
   "outputs": [],
   "source": [
    "ml = monalisa.copy()[:,:,:-1]\n",
    "r_indices = np.arange(128,148)\n",
    "c_indices = np.arange(150,230)\n",
    "ml[np.ix_(r_indices,c_indices,[0,1,2])] = 0\n",
    "plt.imshow(ml[:,:, :])\n",
    "plt.show()"
   ]
  },
  {
   "cell_type": "code",
   "execution_count": null,
   "metadata": {
    "hidden": true
   },
   "outputs": [],
   "source": [
    "import matplotlib.image\n",
    "import matplotlib.pylab as plt\n",
    "le = matplotlib.image.imread('pics/Lady+Ermine.jpg')\n",
    "print(le.shape)\n",
    "plt.imshow(le)\n",
    "plt.show()"
   ]
  },
  {
   "cell_type": "code",
   "execution_count": null,
   "metadata": {
    "hidden": true
   },
   "outputs": [],
   "source": [
    "le_bw = le.mean(axis=2)\n",
    "print(le_bw.shape)\n",
    "plt.imshow(le_bw, cmap='gray')\n",
    "plt.show()"
   ]
  },
  {
   "cell_type": "code",
   "execution_count": null,
   "metadata": {
    "hidden": true
   },
   "outputs": [],
   "source": [
    "new_le = np.ones_like(le, dtype=np.float) \n",
    "print(new_le.shape)\n",
    "plt.imshow(new_le)\n",
    "plt.show()"
   ]
  },
  {
   "cell_type": "code",
   "execution_count": null,
   "metadata": {
    "hidden": true
   },
   "outputs": [],
   "source": [
    "new_le[...,0] = np.where(le_bw<0.3, le_bw, le_bw+1)\n",
    "print(new_le.shape)\n",
    "plt.imshow(new_le)\n",
    "plt.show()"
   ]
  },
  {
   "cell_type": "markdown",
   "metadata": {
    "hidden": true
   },
   "source": [
    "### Ellipsis"
   ]
  },
  {
   "cell_type": "markdown",
   "metadata": {
    "hidden": true
   },
   "source": [
    "Ellipsis is used for slicing multidimensional numpy arrays.\n",
    "\n",
    "The ellipsis syntax may be used to indicate selecting in full any remaining unspecified dimensions."
   ]
  },
  {
   "cell_type": "code",
   "execution_count": null,
   "metadata": {
    "hidden": true
   },
   "outputs": [],
   "source": [
    "import numpy as np\n",
    "m, n, k, l = 2, 3, 4, 3\n",
    "array = np.arange(m * n * k * l).reshape(m, n, k, l)"
   ]
  },
  {
   "cell_type": "code",
   "execution_count": null,
   "metadata": {
    "hidden": true
   },
   "outputs": [],
   "source": [
    "array"
   ]
  },
  {
   "cell_type": "code",
   "execution_count": null,
   "metadata": {
    "hidden": true
   },
   "outputs": [],
   "source": [
    "array[1,...]"
   ]
  },
  {
   "cell_type": "markdown",
   "metadata": {},
   "source": [
    "## NumPy where"
   ]
  },
  {
   "cell_type": "markdown",
   "metadata": {},
   "source": [
    "NumPy where() function provides a more sophisticated tool to perform conditional statement."
   ]
  },
  {
   "cell_type": "code",
   "execution_count": 19,
   "metadata": {},
   "outputs": [
    {
     "name": "stdout",
     "output_type": "stream",
     "text": [
      "[0, -1, 2, -3, 4]\n"
     ]
    }
   ],
   "source": [
    "lst = [i for i in range(5)]\n",
    "f = lambda x: x if x%2==0 else -x \n",
    "print([f(_) for _ in lst])"
   ]
  },
  {
   "cell_type": "code",
   "execution_count": 20,
   "metadata": {},
   "outputs": [
    {
     "data": {
      "text/plain": [
       "array([ 0, -1,  2, -3,  4])"
      ]
     },
     "execution_count": 20,
     "metadata": {},
     "output_type": "execute_result"
    }
   ],
   "source": [
    "ar = np.arange(5)\n",
    "np.where(ar % 2 == 0, ar, -ar)"
   ]
  },
  {
   "cell_type": "markdown",
   "metadata": {},
   "source": [
    "if np.where() function receives only one argument (bool array) it yields the indices of array where this statement is fulfilled"
   ]
  },
  {
   "cell_type": "code",
   "execution_count": 21,
   "metadata": {},
   "outputs": [
    {
     "data": {
      "text/plain": [
       "(array([0, 2, 4]),)"
      ]
     },
     "execution_count": 21,
     "metadata": {},
     "output_type": "execute_result"
    }
   ],
   "source": [
    "np.where(ar % 2 == 0)"
   ]
  },
  {
   "cell_type": "markdown",
   "metadata": {},
   "source": [
    "## ndarray sorting"
   ]
  },
  {
   "cell_type": "code",
   "execution_count": 100,
   "metadata": {},
   "outputs": [
    {
     "data": {
      "image/png": "[encoded data removed]",
      "text/plain": [
       "<Figure size 432x288 with 1 Axes>"
      ]
     },
     "metadata": {
      "needs_background": "light"
     },
     "output_type": "display_data"
    }
   ],
   "source": [
    "import numpy as np\n",
    "\n",
    "from mpl_toolkits.mplot3d import Axes3D \n",
    "import matplotlib.pyplot as plt\n",
    "\n",
    "num = 400\n",
    "points = np.random.randint(0, 10, (num, 3))\n",
    "\n",
    "fig = plt.figure()\n",
    "ax = fig.add_subplot(111, projection='3d')\n",
    "\n",
    "ax.scatter(points[:,0], points[:,1], points[:,2])\n",
    "\n",
    "plt.show()\n",
    "\n"
   ]
  },
  {
   "cell_type": "code",
   "execution_count": 101,
   "metadata": {},
   "outputs": [
    {
     "data": {
      "image/png": "[encoded data removed]",
      "text/plain": [
       "<Figure size 432x288 with 1 Axes>"
      ]
     },
     "metadata": {
      "needs_background": "light"
     },
     "output_type": "display_data"
    }
   ],
   "source": [
    "from matplotlib import cm\n",
    "\n",
    "fig = plt.figure()\n",
    "ax = fig.add_subplot(111, projection='3d')\n",
    "\n",
    "ax.scatter(points[:,0], points[:,1], points[:,2], c=[cm.copper(i/num) for i in range(num)])\n",
    "\n",
    "plt.show()"
   ]
  },
  {
   "cell_type": "code",
   "execution_count": 102,
   "metadata": {},
   "outputs": [
    {
     "data": {
      "text/plain": [
       "array([[4, 2, 4],\n",
       "       [9, 5, 2],\n",
       "       [4, 8, 6],\n",
       "       [3, 6, 2],\n",
       "       [0, 9, 9],\n",
       "       [6, 1, 1],\n",
       "       [4, 8, 0],\n",
       "       [8, 3, 7],\n",
       "       [7, 2, 7],\n",
       "       [6, 4, 1]])"
      ]
     },
     "execution_count": 102,
     "metadata": {},
     "output_type": "execute_result"
    }
   ],
   "source": [
    "points[:10,:]"
   ]
  },
  {
   "cell_type": "code",
   "execution_count": 103,
   "metadata": {},
   "outputs": [
    {
     "data": {
      "text/plain": [
       "array([[4, 7, 0],\n",
       "       [9, 9, 0],\n",
       "       [8, 0, 0],\n",
       "       [2, 2, 0],\n",
       "       [6, 7, 0],\n",
       "       [5, 4, 0],\n",
       "       [7, 8, 0],\n",
       "       [5, 4, 0],\n",
       "       [7, 9, 0],\n",
       "       [2, 5, 0]])"
      ]
     },
     "execution_count": 103,
     "metadata": {},
     "output_type": "execute_result"
    }
   ],
   "source": [
    "points = points[points[:, 2].argsort()] \n",
    "points[:10, :]"
   ]
  },
  {
   "cell_type": "code",
   "execution_count": 104,
   "metadata": {},
   "outputs": [
    {
     "data": {
      "text/plain": [
       "array([[8, 0, 0],\n",
       "       [4, 0, 0],\n",
       "       [6, 0, 0],\n",
       "       [5, 0, 0],\n",
       "       [2, 0, 0],\n",
       "       [7, 0, 1],\n",
       "       [0, 0, 1],\n",
       "       [2, 0, 1],\n",
       "       [6, 0, 2],\n",
       "       [4, 0, 2]])"
      ]
     },
     "execution_count": 104,
     "metadata": {},
     "output_type": "execute_result"
    }
   ],
   "source": [
    "points = points[points[:, 1].argsort(kind='mergesort')] \n",
    "points[:10, :]"
   ]
  },
  {
   "cell_type": "code",
   "execution_count": 105,
   "metadata": {},
   "outputs": [
    {
     "data": {
      "text/plain": [
       "array([[0, 0, 1],\n",
       "       [0, 0, 5],\n",
       "       [0, 0, 8],\n",
       "       [0, 0, 8],\n",
       "       [0, 1, 0],\n",
       "       [0, 1, 1],\n",
       "       [0, 1, 3],\n",
       "       [0, 1, 6],\n",
       "       [0, 1, 9],\n",
       "       [0, 2, 3]])"
      ]
     },
     "execution_count": 105,
     "metadata": {},
     "output_type": "execute_result"
    }
   ],
   "source": [
    "points = points[points[:, 0].argsort(kind='mergesort')] \n",
    "points[:10, :]"
   ]
  },
  {
   "cell_type": "code",
   "execution_count": 106,
   "metadata": {},
   "outputs": [
    {
     "data": {
      "image/png": "[encoded data removed]",
      "text/plain": [
       "<Figure size 432x288 with 1 Axes>"
      ]
     },
     "metadata": {
      "needs_background": "light"
     },
     "output_type": "display_data"
    }
   ],
   "source": [
    "fig = plt.figure()\n",
    "ax = fig.add_subplot(111, projection='3d')\n",
    "\n",
    "ax.scatter(points[:,0], points[:,1], points[:,2], c=[cm.copper(i/num) for i in range(num)])\n",
    "\n",
    "plt.show()"
   ]
  },
  {
   "cell_type": "markdown",
   "metadata": {},
   "source": [
    "# Nearest Neighbor example"
   ]
  },
  {
   "cell_type": "markdown",
   "metadata": {},
   "source": [
    "In the nearest neighbor problem we should find the closest point for each one in a given dataset.  \n",
    "$$D_{i,j}=\\sqrt{(x_i-x_j)^2+(y_i-y_j)^2}$$"
   ]
  },
  {
   "cell_type": "code",
   "execution_count": 68,
   "metadata": {},
   "outputs": [
    {
     "data": {
      "text/plain": [
       "<matplotlib.collections.PathCollection at 0x7f57f8c67dd8>"
      ]
     },
     "execution_count": 68,
     "metadata": {},
     "output_type": "execute_result"
    },
    {
     "data": {
      "image/png": "[encoded data removed]",
      "text/plain": [
       "<Figure size 432x288 with 1 Axes>"
      ]
     },
     "metadata": {
      "needs_background": "light"
     },
     "output_type": "display_data"
    }
   ],
   "source": [
    "import numpy as np\n",
    "import matplotlib.pylab as plt\n",
    "\n",
    "num = 20\n",
    "points = np.random.random((num,2))\n",
    "\n",
    "plt.scatter(points[:,0], points[:,1])"
   ]
  },
  {
   "cell_type": "code",
   "execution_count": 69,
   "metadata": {},
   "outputs": [
    {
     "data": {
      "text/plain": [
       "(20, 20, 2)"
      ]
     },
     "execution_count": 69,
     "metadata": {},
     "output_type": "execute_result"
    }
   ],
   "source": [
    "diff = points.reshape((num,1,2)) - points\n",
    "diff.shape"
   ]
  },
  {
   "cell_type": "code",
   "execution_count": 70,
   "metadata": {},
   "outputs": [
    {
     "name": "stdout",
     "output_type": "stream",
     "text": [
      "(20, 20)\n"
     ]
    },
    {
     "data": {
      "text/plain": [
       "<matplotlib.image.AxesImage at 0x7f57f8c3e7f0>"
      ]
     },
     "execution_count": 70,
     "metadata": {},
     "output_type": "execute_result"
    },
    {
     "data": {
      "image/png": "[encoded data removed]",
      "text/plain": [
       "<Figure size 432x288 with 1 Axes>"
      ]
     },
     "metadata": {
      "needs_background": "light"
     },
     "output_type": "display_data"
    }
   ],
   "source": [
    "dist = np.sum(diff**2, axis=2)\n",
    "print(dist.shape)\n",
    "plt.imshow(dist)"
   ]
  },
  {
   "cell_type": "code",
   "execution_count": 71,
   "metadata": {},
   "outputs": [],
   "source": [
    "dist[np.arange(num), np.arange(num)] = np.inf"
   ]
  },
  {
   "cell_type": "code",
   "execution_count": 72,
   "metadata": {},
   "outputs": [
    {
     "data": {
      "text/plain": [
       "array([13,  3, 10, 11,  2])"
      ]
     },
     "execution_count": 72,
     "metadata": {},
     "output_type": "execute_result"
    }
   ],
   "source": [
    "indices = np.argmin(dist, 1)\n",
    "indices[:5]"
   ]
  },
  {
   "cell_type": "code",
   "execution_count": 73,
   "metadata": {},
   "outputs": [
    {
     "data": {
      "text/plain": [
       "<matplotlib.collections.PathCollection at 0x7f57f8c14f98>"
      ]
     },
     "execution_count": 73,
     "metadata": {},
     "output_type": "execute_result"
    },
    {
     "data": {
      "image/png": "[encoded data removed]",
      "text/plain": [
       "<Figure size 432x288 with 1 Axes>"
      ]
     },
     "metadata": {
      "needs_background": "light"
     },
     "output_type": "display_data"
    }
   ],
   "source": [
    "colors = ['r', 'b', 'y', 'g','m', 'c']\n",
    "c = ['k'] * num\n",
    "for i in range(6):\n",
    "    c[i] = c[indices[i]] = colors[i]\n",
    "    \n",
    "plt.scatter(points[:,0], points[:,1], c=c)"
   ]
  },
  {
   "cell_type": "code",
   "execution_count": 75,
   "metadata": {},
   "outputs": [
    {
     "data": {
      "text/plain": [
       "array([13,  3, 10, 11,  2, 12, 17,  8, 14, 16])"
      ]
     },
     "execution_count": 75,
     "metadata": {},
     "output_type": "execute_result"
    }
   ],
   "source": [
    "import sklearn.neighbors  \n",
    "\n",
    "d,i = sklearn.neighbors.NearestNeighbors().fit(points).kneighbors(points, 2)\n",
    "\n",
    "i[:10, 1]"
   ]
  }
 ],
 "metadata": {
  "celltoolbar": "Raw Cell Format",
  "kernelspec": {
   "display_name": "Python 3",
   "language": "python",
   "name": "python3"
  },
  "language_info": {
   "codemirror_mode": {
    "name": "ipython",
    "version": 3
   },
   "file_extension": ".py",
   "mimetype": "text/x-python",
   "name": "python",
   "nbconvert_exporter": "python",
   "pygments_lexer": "ipython3",
   "version": "3.6.8"
  },
  "toc": {
   "base_numbering": 1,
   "nav_menu": {},
   "number_sections": true,
   "sideBar": true,
   "skip_h1_title": false,
   "title_cell": "Table of Contents",
   "title_sidebar": "Contents",
   "toc_cell": false,
   "toc_position": {
    "height": "calc(100% - 180px)",
    "left": "10px",
    "top": "150px",
    "width": "165px"
   },
   "toc_section_display": true,
   "toc_window_display": true
  }
 },
 "nbformat": 4,
 "nbformat_minor": 2
}
