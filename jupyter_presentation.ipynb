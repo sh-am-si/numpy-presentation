{
 "cells": [
  {
   "cell_type": "markdown",
   "metadata": {},
   "source": [
    "# Python Numerical Features "
   ]
  },
  {
   "cell_type": "markdown",
   "metadata": {},
   "source": [
    "<div>\n",
    "    <p style=\"float:left; width:200px\"><img src=\"pics/guido.png\" height=\"200px\" width=\"100px\" border=\"1px\"></p>\n",
    "    <div stylr=\"font-size:30px;  width:400px\">\n",
    "        Guido van Rossum first intentions were to create a script language suitable for teaching purposes. Still because of his interest in Maths, a lot of mathematical features were implimented in the core of Python.\n",
    "        <ul>\n",
    "            <li>Complex numbers</li>\n",
    "            <li>Logic operations</li>\n",
    "            <li>Aggregation functions</li>\n",
    "        </ul>\n",
    "    </div>\n",
    "</div>\n"
   ]
  },
  {
   "cell_type": "markdown",
   "metadata": {
    "heading_collapsed": true
   },
   "source": [
    "## Long integers"
   ]
  },
  {
   "cell_type": "markdown",
   "metadata": {
    "hidden": true
   },
   "source": [
    "Since Python3, the type int is unbounded -- the value limited only the size of your CPU."
   ]
  },
  {
   "cell_type": "code",
   "execution_count": null,
   "metadata": {
    "hidden": true
   },
   "outputs": [],
   "source": [
    "2**1234"
   ]
  },
  {
   "cell_type": "markdown",
   "metadata": {
    "heading_collapsed": true
   },
   "source": [
    "## Complex Number"
   ]
  },
  {
   "cell_type": "markdown",
   "metadata": {
    "hidden": true
   },
   "source": [
    "### Complex numbers in different languages\n",
    "\n",
    "  <table style=\"width:60%\">\n",
    "    <col style=\"width:20%\">\n",
    "\t<col style=\"width:20%\">\n",
    "\t<col style=\"width:20%\">\n",
    "     <tr>\n",
    "        <th><b>Build-in type</b></th>\n",
    "        <th><b>Standard library</b></th>\n",
    "        <th><b>No standard library</b></th>\n",
    "     </tr>\n",
    "     <tr>\n",
    "         <td>Fortran</td>\n",
    "         <td>C</td>\n",
    "         <td>Java</td>\n",
    "     </tr>\n",
    "     <tr>\n",
    "         <td>Python</td>\n",
    "         <td>C++</td>\n",
    "         <td> </td>\n",
    "     </tr>\n",
    "     <tr>\n",
    "         <td> Go </td>\n",
    "         <td> Perl </td>\n",
    "         <td> </td>\n",
    "     </tr>\n",
    "     <tr>\n",
    "         <td> Common Lisp </td>\n",
    "         <td> Ruby </td>\n",
    "         <td> </td>\n",
    "     </tr>\n",
    "     <tr>\n",
    "         <td> </td>\n",
    "         <td> OCaml </td>\n",
    "         <td> </td>\n",
    "     </tr>\n",
    "      <tr>\n",
    "         <td> </td>\n",
    "         <td> Haskell </td>\n",
    "         <td> </td>\n",
    "     </tr>\n",
    "  </table>\n",
    "  \n",
    "<a href=\"https://en.wikipedia.org/wiki/Complex_data_type\">https://en.wikipedia.org/wiki/Complex_data_type</a>"
   ]
  },
  {
   "cell_type": "code",
   "execution_count": null,
   "metadata": {
    "hidden": true
   },
   "outputs": [],
   "source": [
    "import cmath\n",
    "[f for f in dir(cmath) if f[0] != '_']"
   ]
  },
  {
   "cell_type": "markdown",
   "metadata": {
    "heading_collapsed": true
   },
   "source": [
    "## Useful build-in Python finctions"
   ]
  },
  {
   "cell_type": "markdown",
   "metadata": {
    "hidden": true
   },
   "source": [
    "Python has very handy build-in functions **_min()_**, **_max()_**, **_sum()_**, and **_round()_**"
   ]
  },
  {
   "cell_type": "code",
   "execution_count": null,
   "metadata": {
    "hidden": true
   },
   "outputs": [],
   "source": [
    "int_list = [1,3,-2,0,7]\n",
    "float_list = [1., 3., -2., 0., 7.]\n",
    "complex_list = [1j, 2+3j, 5-4j, 0, 7]\n",
    "str_list = ['a', 'b', 'y', 'z']"
   ]
  },
  {
   "cell_type": "code",
   "execution_count": null,
   "metadata": {
    "hidden": true
   },
   "outputs": [],
   "source": [
    "max(int_list), min(int_list)"
   ]
  },
  {
   "cell_type": "code",
   "execution_count": null,
   "metadata": {
    "hidden": true
   },
   "outputs": [],
   "source": [
    "max(float_list), min(float_list)"
   ]
  },
  {
   "cell_type": "code",
   "execution_count": null,
   "metadata": {
    "hidden": true
   },
   "outputs": [],
   "source": [
    "max(str_list), min(str_list)"
   ]
  },
  {
   "cell_type": "code",
   "execution_count": null,
   "metadata": {
    "hidden": true
   },
   "outputs": [],
   "source": [
    "max(complex_list), min(complex_list)"
   ]
  },
  {
   "cell_type": "code",
   "execution_count": null,
   "metadata": {
    "hidden": true
   },
   "outputs": [],
   "source": [
    "sum(int_list), sum(float_list), sum(complex_list)"
   ]
  },
  {
   "cell_type": "code",
   "execution_count": null,
   "metadata": {
    "hidden": true
   },
   "outputs": [],
   "source": [
    "sum(str_list)"
   ]
  },
  {
   "cell_type": "code",
   "execution_count": null,
   "metadata": {
    "hidden": true
   },
   "outputs": [],
   "source": [
    "import functools\n",
    "functools.reduce(lambda x,y:x+y, str_list)"
   ]
  },
  {
   "cell_type": "markdown",
   "metadata": {
    "heading_collapsed": true
   },
   "source": [
    "## Logic operations and sets"
   ]
  },
  {
   "cell_type": "markdown",
   "metadata": {
    "hidden": true
   },
   "source": [
    "Python supports all logical operation over sets like junction (AND) and intersection (OR)"
   ]
  },
  {
   "cell_type": "code",
   "execution_count": null,
   "metadata": {
    "hidden": true
   },
   "outputs": [],
   "source": [
    "{1, 2, 3} | {2, 3, 4} # and"
   ]
  },
  {
   "cell_type": "code",
   "execution_count": null,
   "metadata": {
    "hidden": true
   },
   "outputs": [],
   "source": [
    "{1, 2, 3} & {2, 3, 4} # or"
   ]
  },
  {
   "cell_type": "markdown",
   "metadata": {},
   "source": [
    "## Time performance issue"
   ]
  },
  {
   "cell_type": "markdown",
   "metadata": {},
   "source": [
    "As Python is a dynamically-typed language it provides type check in advance of every operation."
   ]
  },
  {
   "cell_type": "code",
   "execution_count": 3,
   "metadata": {},
   "outputs": [
    {
     "name": "stdout",
     "output_type": "stream",
     "text": [
      "Python function over list\n",
      "CPU times: user 88.5 ms, sys: 212 µs, total: 88.7 ms\n",
      "Wall time: 88.6 ms\n",
      "Python function over ndarray\n",
      "CPU times: user 157 ms, sys: 372 µs, total: 158 ms\n",
      "Wall time: 157 ms\n",
      "NumPy function (ufunc) over ndarray\n",
      "CPU times: user 1.68 ms, sys: 0 ns, total: 1.68 ms\n",
      "Wall time: 1.56 ms\n"
     ]
    }
   ],
   "source": [
    "import numpy as np\n",
    "num = 10 ** 6\n",
    "np_array = np.random.random(num)\n",
    "py_array = list(np_array)\n",
    "print('Python function over list')\n",
    "%time sum(py_array)\n",
    "print('Python function over ndarray')\n",
    "%time sum(np_array)\n",
    "print('NumPy function (ufunc) over ndarray')\n",
    "%time np.sum(np_array)\n"
   ]
  },
  {
   "cell_type": "code",
   "execution_count": null,
   "metadata": {
    "scrolled": true
   },
   "outputs": [],
   "source": [
    "def inner_product(a,b):\n",
    "    return sum([_a*_b for _a,_b in zip(a,b)])\n",
    "\n",
    "num = 10 ** 6\n",
    "a_np = np.random.random(num)\n",
    "b_np = np.random.random(num)\n",
    "\n",
    "a_py = list(a_np)\n",
    "b_py = list(b_np)\n",
    "\n",
    "%time inner_product(a_np, b_np)\n",
    "\n",
    "%time a_np @ b_np"
   ]
  },
  {
   "cell_type": "markdown",
   "metadata": {},
   "source": [
    "# NumPy"
   ]
  },
  {
   "cell_type": "markdown",
   "metadata": {},
   "source": [
    "## Introduction"
   ]
  },
  {
   "cell_type": "markdown",
   "metadata": {},
   "source": [
    "<p>\n",
    "    You all know that Python is fiercely fighting for the most popular language position \n",
    "</p>\n",
    "<img src=\"pics/major_lang.png\" height=\"400px\" width=\"600px\" border=\"1px\">\n",
    "<p>\n",
    "    However, there is a branch where Python has no rivals.\n",
    "</p>\n",
    "<img src=\"pics/major_sci_lang.png\" height=\"400px\" width=\"600px\" border=\"1px\">\n",
    "\n",
    "    "
   ]
  },
  {
   "cell_type": "code",
   "execution_count": 8,
   "metadata": {},
   "outputs": [
    {
     "name": "stdout",
     "output_type": "stream",
     "text": [
      "2\n"
     ]
    }
   ],
   "source": [
    "a = np.int64(2)\n",
    "print(a)"
   ]
  },
  {
   "cell_type": "code",
   "execution_count": 9,
   "metadata": {},
   "outputs": [
    {
     "name": "stdout",
     "output_type": "stream",
     "text": [
      "0\n"
     ]
    }
   ],
   "source": [
    "print(a**123)"
   ]
  },
  {
   "cell_type": "markdown",
   "metadata": {},
   "source": [
    "## ndarray"
   ]
  },
  {
   "cell_type": "markdown",
   "metadata": {},
   "source": [
    "### Declaration"
   ]
  },
  {
   "cell_type": "code",
   "execution_count": 16,
   "metadata": {},
   "outputs": [],
   "source": [
    "import numpy as np\n",
    "array = np.ndarray(shape=(2,3,4),\n",
    "                  dtype=np.int8)"
   ]
  },
  {
   "cell_type": "code",
   "execution_count": 17,
   "metadata": {},
   "outputs": [
    {
     "data": {
      "text/plain": [
       "array([[[1, 1, 1, 1],\n",
       "        [1, 1, 1, 1],\n",
       "        [1, 1, 1, 1]],\n",
       "\n",
       "       [[1, 1, 1, 1],\n",
       "        [1, 1, 1, 1],\n",
       "        [1, 1, 1, 1]]], dtype=int8)"
      ]
     },
     "execution_count": 17,
     "metadata": {},
     "output_type": "execute_result"
    }
   ],
   "source": [
    "array"
   ]
  },
  {
   "cell_type": "code",
   "execution_count": 54,
   "metadata": {},
   "outputs": [
    {
     "data": {
      "text/plain": [
       "(2, 3, 4)"
      ]
     },
     "execution_count": 54,
     "metadata": {},
     "output_type": "execute_result"
    }
   ],
   "source": [
    "# array shape\n",
    "array.shape"
   ]
  },
  {
   "cell_type": "code",
   "execution_count": 55,
   "metadata": {},
   "outputs": [
    {
     "data": {
      "text/plain": [
       "3"
      ]
     },
     "execution_count": 55,
     "metadata": {},
     "output_type": "execute_result"
    }
   ],
   "source": [
    "# dimension number\n",
    "array.ndim"
   ]
  },
  {
   "cell_type": "code",
   "execution_count": 19,
   "metadata": {},
   "outputs": [
    {
     "data": {
      "text/plain": [
       "  C_CONTIGUOUS : True\n",
       "  F_CONTIGUOUS : False\n",
       "  OWNDATA : True\n",
       "  WRITEABLE : True\n",
       "  ALIGNED : True\n",
       "  WRITEBACKIFCOPY : False\n",
       "  UPDATEIFCOPY : False"
      ]
     },
     "execution_count": 19,
     "metadata": {},
     "output_type": "execute_result"
    }
   ],
   "source": [
    "array.flags"
   ]
  },
  {
   "cell_type": "code",
   "execution_count": null,
   "metadata": {},
   "outputs": [],
   "source": []
  },
  {
   "cell_type": "markdown",
   "metadata": {},
   "source": [
    "As we see above the outcomes of above constructor are unpredictable. Fortunately, there are many cozy constructors those produce ready for use data."
   ]
  },
  {
   "cell_type": "code",
   "execution_count": 20,
   "metadata": {},
   "outputs": [
    {
     "data": {
      "text/plain": [
       "array([[False, False, False],\n",
       "       [False, False, False]])"
      ]
     },
     "execution_count": 20,
     "metadata": {},
     "output_type": "execute_result"
    }
   ],
   "source": [
    "np.zeros(shape=(2,3), dtype=np.bool)"
   ]
  },
  {
   "cell_type": "code",
   "execution_count": 21,
   "metadata": {},
   "outputs": [
    {
     "data": {
      "text/plain": [
       "array([[[0, 0, 0, 0],\n",
       "        [0, 0, 0, 0],\n",
       "        [0, 0, 0, 0]],\n",
       "\n",
       "       [[0, 0, 0, 0],\n",
       "        [0, 0, 0, 0],\n",
       "        [0, 0, 0, 0]]], dtype=int8)"
      ]
     },
     "execution_count": 21,
     "metadata": {},
     "output_type": "execute_result"
    }
   ],
   "source": [
    "np.zeros_like(array, dtype=np.int8)"
   ]
  },
  {
   "cell_type": "code",
   "execution_count": 28,
   "metadata": {},
   "outputs": [
    {
     "data": {
      "text/plain": [
       "array([[12., 12., 12., 12.],\n",
       "       [12., 12., 12., 12.],\n",
       "       [12., 12., 12., 12.]])"
      ]
     },
     "execution_count": 28,
     "metadata": {},
     "output_type": "execute_result"
    }
   ],
   "source": [
    "12*np.ones((3,4), dtype=float)"
   ]
  },
  {
   "cell_type": "code",
   "execution_count": 30,
   "metadata": {},
   "outputs": [
    {
     "data": {
      "text/plain": [
       "array([[12., 12., 12., 12.],\n",
       "       [12., 12., 12., 12.],\n",
       "       [12., 12., 12., 12.]])"
      ]
     },
     "execution_count": 30,
     "metadata": {},
     "output_type": "execute_result"
    }
   ],
   "source": [
    "np.full((3,4),12, dtype=float)"
   ]
  },
  {
   "cell_type": "code",
   "execution_count": 32,
   "metadata": {},
   "outputs": [
    {
     "data": {
      "text/plain": [
       "array([[ True, False, False],\n",
       "       [False,  True, False],\n",
       "       [False, False,  True],\n",
       "       [False, False, False]])"
      ]
     },
     "execution_count": 32,
     "metadata": {},
     "output_type": "execute_result"
    }
   ],
   "source": [
    "np.eye(4,3, dtype=np.bool)"
   ]
  },
  {
   "cell_type": "code",
   "execution_count": 33,
   "metadata": {},
   "outputs": [
    {
     "data": {
      "text/plain": [
       "array([[0, 1, 2],\n",
       "       [1, 2, 3],\n",
       "       [2, 3, 4],\n",
       "       [3, 4, 5]])"
      ]
     },
     "execution_count": 33,
     "metadata": {},
     "output_type": "execute_result"
    }
   ],
   "source": [
    "np.array([[j+i for j in range(3)] for i in range(4)], np.int)"
   ]
  },
  {
   "cell_type": "code",
   "execution_count": 53,
   "metadata": {},
   "outputs": [
    {
     "name": "stdout",
     "output_type": "stream",
     "text": [
      "[[list(['Hello world', 'Hi there']) list([]) list([])]\n",
      " [list([]) list([]) list(['Bye there'])]]\n"
     ]
    }
   ],
   "source": [
    "aol = np.empty(6, dtype=np.object)\n",
    "for i in range(6):\n",
    "    aol[i] = []\n",
    "aol[0].append('Hello world')\n",
    "aol[0].append('Hi there')\n",
    "aol[5].append('Bye there')\n",
    "aol.shape = (2,3)\n",
    "print(aol)"
   ]
  },
  {
   "cell_type": "markdown",
   "metadata": {},
   "source": [
    "## NumPy types"
   ]
  },
  {
   "cell_type": "markdown",
   "metadata": {},
   "source": [
    "\n",
    "\n"
   ]
  },
  {
   "cell_type": "code",
   "execution_count": 22,
   "metadata": {},
   "outputs": [
    {
     "data": {
      "text/plain": [
       "iinfo(min=-9223372036854775808, max=9223372036854775807, dtype=int64)"
      ]
     },
     "execution_count": 22,
     "metadata": {},
     "output_type": "execute_result"
    }
   ],
   "source": [
    "np.iinfo(np.int)\n",
    "# np.iinfo(np.int_)\n"
   ]
  },
  {
   "cell_type": "code",
   "execution_count": 25,
   "metadata": {},
   "outputs": [
    {
     "name": "stdout",
     "output_type": "stream",
     "text": [
      "-9223372036854775808\n"
     ]
    },
    {
     "name": "stderr",
     "output_type": "stream",
     "text": [
      "/usr/local/lib/python3.6/dist-packages/ipykernel_launcher.py:2: RuntimeWarning: overflow encountered in long_scalars\n",
      "  \n"
     ]
    }
   ],
   "source": [
    "a = np.int64(9223372036854775807)\n",
    "print(a+1)\n"
   ]
  },
  {
   "cell_type": "code",
   "execution_count": null,
   "metadata": {},
   "outputs": [],
   "source": [
    "np.finfo(1.)"
   ]
  },
  {
   "cell_type": "code",
   "execution_count": null,
   "metadata": {},
   "outputs": [],
   "source": [
    "from mimesis import Person\n",
    "from mimesis.enums import Gender, CardType\n",
    "from mimesis.providers.payment import Payment\n",
    "\n",
    "num = 12\n",
    "\n",
    "dtype = np.dtype([\n",
    "            ('id',  np.uint8),\n",
    "            ('full_name', np.unicode_, 32),\n",
    "            ('credit_card_number', np.unicode_, 32),\n",
    "            ('credit_card_expiration_date', np.unicode_, 8),\n",
    "            ('gender', np.unicode_, 1),\n",
    "            ('child_count', np.uint8)\n",
    "        ])\n",
    "\n",
    "person = Person('pl')\n",
    "payment = Payment()\n",
    "\n",
    "gender = np.random.randint(2, size=num)\n",
    "array = np.empty(shape=num,\n",
    "                 dtype=dtype)\n",
    "\n",
    "for idx in range(num):\n",
    "\n",
    "    array['id'][idx] = idx\n",
    "    array['full_name'][idx] = person.full_name(gender=Gender.MALE if gender[idx] else Gender.FEMALE)\n",
    "    array['credit_card_number'][idx] = payment.credit_card_number(card_type=CardType.VISA)\n",
    "    array['credit_card_expiration_date'][idx] = payment.credit_card_expiration_date(maximum=22)\n",
    "    array['gender'][idx] = 'M' if gender[idx] else 'F'\n",
    "    array['child_count'][idx] = person.child_count()\n",
    "    \n",
    "print(array)\n",
    "\n"
   ]
  },
  {
   "cell_type": "code",
   "execution_count": null,
   "metadata": {},
   "outputs": [],
   "source": [
    "array['full_name']"
   ]
  },
  {
   "cell_type": "markdown",
   "metadata": {},
   "source": [
    "## ufunc"
   ]
  },
  {
   "cell_type": "markdown",
   "metadata": {},
   "source": [
    "\n",
    "<span style=\"color:red\">ufunc</span> is a short form of Universal Functions, which are a special type of functions\n",
    "defined within the NumPy library those operate element-wise on arrays.\n",
    "What are the ufuncs? \n",
    "\n",
    "* Arithmetic Operations: + − ∗ @ / // %\n",
    "* Bitwise Operations: & | v ∧ ∗∗ >> <<\n",
    "* Comparison Operations: < > <= => == !=\n",
    "* Mathematical Functions: <span style=\"color:red, \">np.sin, np.cos np.sqrt np.exp, np.log, np.log10,</span> etc.\n",
    "* and many, many more\n",
    "\n",
    "Most arithmetic operation are valid for a ndarray and scalar.\n",
    "Generally, all basic fuctions are implemented as ufuncs in NumPy. Still we may create our own vectorized functions."
   ]
  },
  {
   "cell_type": "code",
   "execution_count": 64,
   "metadata": {},
   "outputs": [
    {
     "name": "stdout",
     "output_type": "stream",
     "text": [
      "CPU times: user 362 µs, sys: 64 µs, total: 426 µs\n",
      "Wall time: 331 µs\n",
      "CPU times: user 1.4 ms, sys: 246 µs, total: 1.65 ms\n",
      "Wall time: 1.65 ms\n",
      "CPU times: user 805 µs, sys: 0 ns, total: 805 µs\n",
      "Wall time: 787 µs\n"
     ]
    }
   ],
   "source": [
    "num = 2000\n",
    "#Suppose we have 1000 points\n",
    "\n",
    "points = np.random.randint(10, size=(num,))\n",
    "\n",
    "%time points[points>5] -= 10\n",
    "\n",
    "f1 = lambda x : x - 10 if x> 5 else x\n",
    "%time dto1 = np.array([f1(x) for x in points])\n",
    "\n",
    "f2 = np.vectorize(f1)\n",
    "\n",
    "%time dto2 = f2(points)\n"
   ]
  },
  {
   "cell_type": "markdown",
   "metadata": {},
   "source": [
    "## Broadcasting"
   ]
  },
  {
   "cell_type": "markdown",
   "metadata": {},
   "source": [
    "<span style=\"color:red\">Broadcasting</span> is a set of rule by which ufuncs operate on arrays of different size and/or\n",
    "dimensions.\n",
    "Broadcasting in NumPy follows a strict set of rules to determine the interaction be-\n",
    "tween the two arrays:\n",
    "* Rule 1: If the two arrays differ in their number of dimensions, the shape of the one with fewer dimensions is padded with ones on its leading (left) side.\n",
    "* Rule 2: If the shape of the two arrays does not match in any dimension, the array with shape equal to 1 in that dimension is stretched to match the other shape.\n",
    "* Rule 3: If in any dimension the sizes disagree and neither is equal to 1, an error is raised"
   ]
  },
  {
   "cell_type": "code",
   "execution_count": null,
   "metadata": {},
   "outputs": [],
   "source": [
    "# Rule 1\n",
    "import numpy as np\n",
    "a = np.arange(12).reshape(3,4)\n",
    "b = np.arange(4)\n",
    "_b = np.broadcast_to(b, a.shape)\n",
    "print('array a of shape', a.shape)\n",
    "print(a)\n",
    "print('array b of shape', b.shape)\n",
    "print(b)\n",
    "print('is broadcasted to the array _b of shape', _b.shape)\n",
    "print(_b)\n",
    "print('a + b = a + _b')\n",
    "print(a + _b)"
   ]
  },
  {
   "cell_type": "code",
   "execution_count": null,
   "metadata": {},
   "outputs": [],
   "source": [
    "# Rule 2\n",
    "import numpy as np\n",
    "a = np.arange(12).reshape(3, 4)\n",
    "# a = np.arange(12).reshape(3,-1)\n",
    "# a = np.arange(12).reshape(-1,4)\n",
    "b = np.arange(3).reshape(3, 1)\n",
    "# b = np.arange(3).reshape(3,-1)\n",
    "# b = np.arange(3)[np.newaxis].T\n",
    "# b = np.arange(3)[np.newaxis].transpose()\n",
    "# b = np.arange(3)[None].transpose()\n",
    "# b = np.array([[i] for i in range(3)])\n",
    "\n",
    "print('array a of shape', a.shape)\n",
    "print(a)\n",
    "print('array b of shape', b.shape)\n",
    "print(b)\n",
    "\n",
    "_b = np.broadcast_to(b, a.shape)\n",
    "print('is broadcasted to the array _b of shape', _b.shape)\n",
    "print(_b)\n",
    "print('a + b = a + _b')\n",
    "print(a + _b)"
   ]
  },
  {
   "cell_type": "code",
   "execution_count": null,
   "metadata": {},
   "outputs": [],
   "source": [
    "# broadcasting to more dimensions\n",
    "b = np.arange(6).reshape(3,2)\n",
    "b = b[...,np.newaxis,np.newaxis]\n",
    "print('vector b of shape', b.shape)\n",
    "print(b, '\\n')\n",
    "br = np.broadcast_to(b, (3,2,3,5))\n",
    "print(br)"
   ]
  },
  {
   "cell_type": "markdown",
   "metadata": {},
   "source": [
    "## Fancy indexing"
   ]
  },
  {
   "cell_type": "markdown",
   "metadata": {},
   "source": [
    "Python lists don't support indexing neither by the list of booleans nor by other list of indices  "
   ]
  },
  {
   "cell_type": "code",
   "execution_count": 65,
   "metadata": {},
   "outputs": [
    {
     "name": "stdout",
     "output_type": "stream",
     "text": [
      "[0, 1, 2, 3, 4, 5, 6, 7, 8, 9]\n",
      "[True, True, False, True, True, False, True, True, True, False]\n"
     ]
    },
    {
     "ename": "TypeError",
     "evalue": "list indices must be integers or slices, not list",
     "output_type": "error",
     "traceback": [
      "\u001b[0;31m---------------------------------------------------------------------------\u001b[0m",
      "\u001b[0;31mTypeError\u001b[0m                                 Traceback (most recent call last)",
      "\u001b[0;32m<ipython-input-65-c64ddb6eba96>\u001b[0m in \u001b[0;36m<module>\u001b[0;34m\u001b[0m\n\u001b[1;32m      3\u001b[0m \u001b[0mprint\u001b[0m\u001b[0;34m(\u001b[0m\u001b[0mlst\u001b[0m\u001b[0;34m)\u001b[0m\u001b[0;34m\u001b[0m\u001b[0;34m\u001b[0m\u001b[0m\n\u001b[1;32m      4\u001b[0m \u001b[0mprint\u001b[0m\u001b[0;34m(\u001b[0m\u001b[0mbool_ind\u001b[0m\u001b[0;34m)\u001b[0m\u001b[0;34m\u001b[0m\u001b[0;34m\u001b[0m\u001b[0m\n\u001b[0;32m----> 5\u001b[0;31m \u001b[0mprint\u001b[0m\u001b[0;34m(\u001b[0m\u001b[0mlst\u001b[0m\u001b[0;34m[\u001b[0m\u001b[0mbool_ind\u001b[0m\u001b[0;34m]\u001b[0m\u001b[0;34m)\u001b[0m\u001b[0;34m\u001b[0m\u001b[0;34m\u001b[0m\u001b[0m\n\u001b[0m",
      "\u001b[0;31mTypeError\u001b[0m: list indices must be integers or slices, not list"
     ]
    }
   ],
   "source": [
    "lst = [i for i in range(10)]\n",
    "bool_ind = [bool(i) for i in np.random.randint(2,size=10)]\n",
    "print(lst)\n",
    "print(bool_ind)\n",
    "print(lst[bool_ind])"
   ]
  },
  {
   "cell_type": "code",
   "execution_count": 67,
   "metadata": {},
   "outputs": [
    {
     "name": "stdout",
     "output_type": "stream",
     "text": [
      "[0 1 2 3 4 5 6 7 8 9]\n",
      "[0 1 3 4 6 7 8]\n"
     ]
    }
   ],
   "source": [
    "np_array = np.arange(10)\n",
    "# bool_ind = [bool(i) for i in np.random.randint(2,size=10)]\n",
    "print(np_array)\n",
    "# print(bool_ind)\n",
    "print(np_array[bool_ind])"
   ]
  },
  {
   "cell_type": "code",
   "execution_count": 70,
   "metadata": {},
   "outputs": [
    {
     "data": {
      "image/png": "[encoded data removed]",
      "text/plain": [
       "<Figure size 432x288 with 1 Axes>"
      ]
     },
     "metadata": {
      "needs_background": "light"
     },
     "output_type": "display_data"
    }
   ],
   "source": [
    "import matplotlib.image\n",
    "import matplotlib.pylab as plt\n",
    "monalisa = matplotlib.image.imread('pics/monalisa.png')\n",
    "ml = monalisa.copy()\n",
    "plt.imshow(monalisa)\n",
    "plt.show()"
   ]
  },
  {
   "cell_type": "code",
   "execution_count": 71,
   "metadata": {},
   "outputs": [
    {
     "data": {
      "text/plain": [
       "(599, 401, 4)"
      ]
     },
     "execution_count": 71,
     "metadata": {},
     "output_type": "execute_result"
    }
   ],
   "source": [
    "monalisa.shape"
   ]
  },
  {
   "cell_type": "code",
   "execution_count": 72,
   "metadata": {},
   "outputs": [
    {
     "data": {
      "image/png": "[encoded data removed]",
      "text/plain": [
       "<Figure size 432x288 with 1 Axes>"
      ]
     },
     "metadata": {
      "needs_background": "light"
     },
     "output_type": "display_data"
    }
   ],
   "source": [
    "r,c,f = monalisa.shape\n",
    "ml[:r//2,:c//2,0] = 1\n",
    "ml[r//2:,c//2:,0] = 0\n",
    "plt.imshow(ml[:,:, :])\n",
    "plt.show()"
   ]
  },
  {
   "cell_type": "code",
   "execution_count": 84,
   "metadata": {},
   "outputs": [
    {
     "ename": "IndexError",
     "evalue": "shape mismatch: indexing arrays could not be broadcast together with shapes (20,) (80,) ",
     "output_type": "error",
     "traceback": [
      "\u001b[0;31m---------------------------------------------------------------------------\u001b[0m",
      "\u001b[0;31mIndexError\u001b[0m                                Traceback (most recent call last)",
      "\u001b[0;32m<ipython-input-84-2740d7e18cf4>\u001b[0m in \u001b[0;36m<module>\u001b[0;34m\u001b[0m\n\u001b[1;32m      2\u001b[0m \u001b[0mr_indices\u001b[0m \u001b[0;34m=\u001b[0m \u001b[0mnp\u001b[0m\u001b[0;34m.\u001b[0m\u001b[0marange\u001b[0m\u001b[0;34m(\u001b[0m\u001b[0;36m128\u001b[0m\u001b[0;34m,\u001b[0m\u001b[0;36m148\u001b[0m\u001b[0;34m)\u001b[0m\u001b[0;34m\u001b[0m\u001b[0;34m\u001b[0m\u001b[0m\n\u001b[1;32m      3\u001b[0m \u001b[0mc_indices\u001b[0m \u001b[0;34m=\u001b[0m \u001b[0mnp\u001b[0m\u001b[0;34m.\u001b[0m\u001b[0marange\u001b[0m\u001b[0;34m(\u001b[0m\u001b[0;36m150\u001b[0m\u001b[0;34m,\u001b[0m\u001b[0;36m230\u001b[0m\u001b[0;34m)\u001b[0m\u001b[0;34m\u001b[0m\u001b[0;34m\u001b[0m\u001b[0m\n\u001b[0;32m----> 4\u001b[0;31m \u001b[0mml\u001b[0m\u001b[0;34m[\u001b[0m\u001b[0mr_indices\u001b[0m\u001b[0;34m,\u001b[0m\u001b[0mc_indices\u001b[0m\u001b[0;34m,\u001b[0m\u001b[0;34m:\u001b[0m\u001b[0;34m]\u001b[0m \u001b[0;34m=\u001b[0m \u001b[0;36m1\u001b[0m\u001b[0;34m\u001b[0m\u001b[0;34m\u001b[0m\u001b[0m\n\u001b[0m\u001b[1;32m      5\u001b[0m \u001b[0mplt\u001b[0m\u001b[0;34m.\u001b[0m\u001b[0mimshow\u001b[0m\u001b[0;34m(\u001b[0m\u001b[0mml\u001b[0m\u001b[0;34m[\u001b[0m\u001b[0;34m:\u001b[0m\u001b[0;34m,\u001b[0m\u001b[0;34m:\u001b[0m\u001b[0;34m,\u001b[0m \u001b[0;34m:\u001b[0m\u001b[0;34m]\u001b[0m\u001b[0;34m)\u001b[0m\u001b[0;34m\u001b[0m\u001b[0;34m\u001b[0m\u001b[0m\n\u001b[1;32m      6\u001b[0m \u001b[0mplt\u001b[0m\u001b[0;34m.\u001b[0m\u001b[0mshow\u001b[0m\u001b[0;34m(\u001b[0m\u001b[0;34m)\u001b[0m\u001b[0;34m\u001b[0m\u001b[0;34m\u001b[0m\u001b[0m\n",
      "\u001b[0;31mIndexError\u001b[0m: shape mismatch: indexing arrays could not be broadcast together with shapes (20,) (80,) "
     ]
    }
   ],
   "source": [
    "ml = monalisa.copy()[:,:,:-1]\n",
    "r_indices = np.arange(128,148)\n",
    "c_indices = np.arange(150,230)\n",
    "ml[r_indices,c_indices,:] = 1\n",
    "plt.imshow(ml[:,:, :])\n",
    "plt.show()"
   ]
  },
  {
   "cell_type": "code",
   "execution_count": null,
   "metadata": {},
   "outputs": [],
   "source": [
    "import matplotlib.image\n",
    "import matplotlib.pylab as plt\n",
    "le = matplotlib.image.imread('pics/Lady+Ermine.jpg')\n",
    "print(le.shape)\n",
    "plt.imshow(le)\n",
    "plt.show()"
   ]
  },
  {
   "cell_type": "code",
   "execution_count": null,
   "metadata": {},
   "outputs": [],
   "source": [
    "_le = le.copy()\n",
    "\n",
    "_le[_le.max(axis=2)<0.9] = 0.\n",
    "plt.imshow(_le)\n",
    "plt.show()"
   ]
  },
  {
   "cell_type": "markdown",
   "metadata": {},
   "source": [
    "### Numpr where"
   ]
  },
  {
   "cell_type": "code",
   "execution_count": 87,
   "metadata": {},
   "outputs": [
    {
     "data": {
      "text/plain": [
       "array([[3, 1, 1, 0],\n",
       "       [2, 0, 3, 1],\n",
       "       [0, 1, 0, 1]])"
      ]
     },
     "execution_count": 87,
     "metadata": {},
     "output_type": "execute_result"
    }
   ],
   "source": [
    "array = np.random.randint(4,size = (3,4))\n",
    "array"
   ]
  },
  {
   "cell_type": "code",
   "execution_count": 91,
   "metadata": {},
   "outputs": [
    {
     "name": "stderr",
     "output_type": "stream",
     "text": [
      "/usr/local/lib/python3.6/dist-packages/ipykernel_launcher.py:1: RuntimeWarning: divide by zero encountered in true_divide\n",
      "  \"\"\"Entry point for launching an IPython kernel.\n"
     ]
    },
    {
     "data": {
      "text/plain": [
       "array([[0.33333333, 1.        , 1.        ,        inf],\n",
       "       [0.5       ,        inf, 0.33333333, 1.        ],\n",
       "       [       inf, 1.        ,        inf, 1.        ]])"
      ]
     },
     "execution_count": 91,
     "metadata": {},
     "output_type": "execute_result"
    }
   ],
   "source": [
    "array_inv =  1/array\n",
    "array_inv"
   ]
  },
  {
   "cell_type": "code",
   "execution_count": 93,
   "metadata": {},
   "outputs": [
    {
     "data": {
      "text/plain": [
       "array([[ True,  True,  True, False],\n",
       "       [ True, False,  True,  True],\n",
       "       [False,  True, False,  True]])"
      ]
     },
     "execution_count": 93,
     "metadata": {},
     "output_type": "execute_result"
    }
   ],
   "source": [
    "np.isfinite(array_inv)"
   ]
  },
  {
   "cell_type": "code",
   "execution_count": 94,
   "metadata": {},
   "outputs": [],
   "source": [
    "array_inv[np.isinf(array_inv)] = 0"
   ]
  },
  {
   "cell_type": "code",
   "execution_count": 95,
   "metadata": {},
   "outputs": [
    {
     "data": {
      "text/plain": [
       "array([[0.33333333, 1.        , 1.        , 0.        ],\n",
       "       [0.5       , 0.        , 0.33333333, 1.        ],\n",
       "       [0.        , 1.        , 0.        , 1.        ]])"
      ]
     },
     "execution_count": 95,
     "metadata": {},
     "output_type": "execute_result"
    }
   ],
   "source": [
    "array_inv"
   ]
  },
  {
   "cell_type": "code",
   "execution_count": null,
   "metadata": {},
   "outputs": [],
   "source": []
  }
 ],
 "metadata": {
  "celltoolbar": "Raw Cell Format",
  "kernelspec": {
   "display_name": "Python 3",
   "language": "python",
   "name": "python3"
  },
  "language_info": {
   "codemirror_mode": {
    "name": "ipython",
    "version": 3
   },
   "file_extension": ".py",
   "mimetype": "text/x-python",
   "name": "python",
   "nbconvert_exporter": "python",
   "pygments_lexer": "ipython3",
   "version": "3.6.8"
  },
  "toc": {
   "base_numbering": 1,
   "nav_menu": {},
   "number_sections": true,
   "sideBar": true,
   "skip_h1_title": false,
   "title_cell": "Table of Contents",
   "title_sidebar": "Contents",
   "toc_cell": false,
   "toc_position": {
    "height": "calc(100% - 180px)",
    "left": "10px",
    "top": "150px",
    "width": "175.067px"
   },
   "toc_section_display": true,
   "toc_window_display": true
  }
 },
 "nbformat": 4,
 "nbformat_minor": 2
}
